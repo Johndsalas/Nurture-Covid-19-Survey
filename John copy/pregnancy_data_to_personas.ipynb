{
 "cells": [
  {
   "cell_type": "code",
   "execution_count": 1,
   "id": "lonely-arbor",
   "metadata": {},
   "outputs": [],
   "source": [
    "import pandas as pd\n",
    "import matplotlib.pyplot as plt\n",
    "import pandas as pd\n",
    "import seaborn as sns\n",
    "\n",
    "import nltk\n",
    "\n",
    "import warnings\n",
    "warnings.filterwarnings(\"ignore\")\n",
    "\n",
    "import prepare as p\n",
    "import explore as e"
   ]
  },
  {
   "cell_type": "markdown",
   "id": "hearing-english",
   "metadata": {},
   "source": [
    "# Personas"
   ]
  },
  {
   "cell_type": "markdown",
   "id": "piano-incidence",
   "metadata": {},
   "source": [
    "## Process\n",
    "\n",
    "1) Create an 'overall' persona using the entire dataframe to surve as a control group and measure of the overall<br>\n",
    "2) Choose a personal characteristic feature you want to explore<br>\n",
    "3) Create a persona for each adaquetly represented value in that feature using only rows with that value<br>\n",
    "4) Compare the 'overall' persona and the 'value' personas to see how changind the value in your explored feature changes the other values in the persona<br>\n",
    "5) Record takeaways<br>\n",
    "6) Choose a new feature to explore<br>\n",
    "\n",
    "**Process for creating a persona is outlined below**"
   ]
  },
  {
   "cell_type": "markdown",
   "id": "phantom-landscape",
   "metadata": {},
   "source": [
    "## Persona Outline\n",
    "\n",
    "### Personal Characteristics\n",
    "1) Race/Ethnicity <br>\n",
    "* We have resonable counts to look as white, black, asian, and hispanic.\n",
    "\n",
    "2) Gender Identity <br>\n",
    "* Probly not a good feature to use only 6/712 are not women\n",
    "\n",
    "3) Zipcode<br>\n",
    "* 235 distinct values, tieing these codes together into neighborhoods could give us some info and help tell a story\n",
    "\n",
    "4) pregnancy_stage<br>\n",
    "* Uneven distribution (Way more at one year). Odd to include as part of a persona. First trimester and care giver are low sample sizes. Recomend looking at latter to see if needs differ at different stages but not to include in the personas\n",
    "\n",
    "5) Income<br>\n",
    "* Higher income is overepresented. Adequate sample sizes for each veriable. One row needs to be combined with 40,000 and under. Could use mode salary for neighberhood to fill nulls.\n",
    "\n",
    "6) Micarrage<br>\n",
    "* True value not adequate sample size, suggest dropping the feature\n",
    "\n",
    "**Use these**\n",
    "\n",
    "* Race/Ethnicity\n",
    "* Location by \"neighborhood\"\n",
    "* Income\n",
    "\n",
    "### Primary Concerns Quantitative\n",
    "* Distribution of financial and overall wellbeing \n",
    "* q6 list top X most frequently identified needs\n",
    "\n",
    "* Unsure what duration is or how it applies???\n",
    "\n",
    "### Primary Concerns Qualitative\n",
    "* Many many null values\n",
    "* use theme extraction to identify labels to help sort respnces\n",
    "* use bag of words to identify ngrams in responces to look for common phrases\n",
    "* Still working on this part\n",
    "\n",
    "\n",
    "### Summary Quotation - Nice to have\n",
    "* Quote from Qualitative data that is representitive of the group in question. "
   ]
  },
  {
   "cell_type": "code",
   "execution_count": 2,
   "id": "occupied-dietary",
   "metadata": {},
   "outputs": [
    {
     "data": {
      "text/html": [
       "<div>\n",
       "<style scoped>\n",
       "    .dataframe tbody tr th:only-of-type {\n",
       "        vertical-align: middle;\n",
       "    }\n",
       "\n",
       "    .dataframe tbody tr th {\n",
       "        vertical-align: top;\n",
       "    }\n",
       "\n",
       "    .dataframe thead th {\n",
       "        text-align: right;\n",
       "    }\n",
       "</style>\n",
       "<table border=\"1\" class=\"dataframe\">\n",
       "  <thead>\n",
       "    <tr style=\"text-align: right;\">\n",
       "      <th></th>\n",
       "      <th>respondent_id</th>\n",
       "      <th>collector_id</th>\n",
       "      <th>start</th>\n",
       "      <th>end</th>\n",
       "      <th>zip</th>\n",
       "      <th>q01_overall</th>\n",
       "      <th>q01_overall_open</th>\n",
       "      <th>q02_financial</th>\n",
       "      <th>q02_financial_open</th>\n",
       "      <th>q03_pregnancy_open</th>\n",
       "      <th>...</th>\n",
       "      <th>q06_support_none</th>\n",
       "      <th>q06_support_other</th>\n",
       "      <th>q08_hispanic</th>\n",
       "      <th>q09_gender</th>\n",
       "      <th>q11_open</th>\n",
       "      <th>duration</th>\n",
       "      <th>pregnancy_stage</th>\n",
       "      <th>miscarriage</th>\n",
       "      <th>race</th>\n",
       "      <th>income</th>\n",
       "    </tr>\n",
       "  </thead>\n",
       "  <tbody>\n",
       "    <tr>\n",
       "      <th>0</th>\n",
       "      <td>12488725288</td>\n",
       "      <td>399921329</td>\n",
       "      <td>2021-03-13 12:23:16</td>\n",
       "      <td>2021-03-13 12:31:36</td>\n",
       "      <td>20124</td>\n",
       "      <td>1.0</td>\n",
       "      <td>NaN</td>\n",
       "      <td>1.0</td>\n",
       "      <td>NaN</td>\n",
       "      <td>Understanding transmission of COVID 19 and how...</td>\n",
       "      <td>...</td>\n",
       "      <td>NaN</td>\n",
       "      <td>NaN</td>\n",
       "      <td>No</td>\n",
       "      <td>Woman</td>\n",
       "      <td>The support we had while in the maternity ward...</td>\n",
       "      <td>-9</td>\n",
       "      <td>1 year</td>\n",
       "      <td>False</td>\n",
       "      <td>White</td>\n",
       "      <td>125,001 and over</td>\n",
       "    </tr>\n",
       "    <tr>\n",
       "      <th>1</th>\n",
       "      <td>124886789</td>\n",
       "      <td>399921329</td>\n",
       "      <td>2021-03-13 11:48:18</td>\n",
       "      <td>2021-03-13 11:51:46</td>\n",
       "      <td>22191</td>\n",
       "      <td>2.0</td>\n",
       "      <td>NaN</td>\n",
       "      <td>2.0</td>\n",
       "      <td>NaN</td>\n",
       "      <td>How the vaccine affects both pregnancy and pos...</td>\n",
       "      <td>...</td>\n",
       "      <td>NaN</td>\n",
       "      <td>NaN</td>\n",
       "      <td>No</td>\n",
       "      <td>Woman</td>\n",
       "      <td>NaN</td>\n",
       "      <td>-4</td>\n",
       "      <td>3rd trimester</td>\n",
       "      <td>False</td>\n",
       "      <td>Black</td>\n",
       "      <td>100,001 - 125,000</td>\n",
       "    </tr>\n",
       "    <tr>\n",
       "      <th>2</th>\n",
       "      <td>124884534</td>\n",
       "      <td>399921329</td>\n",
       "      <td>2021-03-13 09:25:30</td>\n",
       "      <td>2021-03-13 09:37:07</td>\n",
       "      <td>22181</td>\n",
       "      <td>1.0</td>\n",
       "      <td>NaN</td>\n",
       "      <td>1.0</td>\n",
       "      <td>NaN</td>\n",
       "      <td>Get Covid and be hospitalized.</td>\n",
       "      <td>...</td>\n",
       "      <td>NaN</td>\n",
       "      <td>NaN</td>\n",
       "      <td>Yes</td>\n",
       "      <td>Woman</td>\n",
       "      <td>Because of COVID, my husband hasn�t been avail...</td>\n",
       "      <td>-12</td>\n",
       "      <td>3rd trimester</td>\n",
       "      <td>False</td>\n",
       "      <td>White</td>\n",
       "      <td>100,001 - 125,000</td>\n",
       "    </tr>\n",
       "    <tr>\n",
       "      <th>3</th>\n",
       "      <td>12488374327</td>\n",
       "      <td>399921329</td>\n",
       "      <td>2021-03-13 08:04:15</td>\n",
       "      <td>2021-03-13 08:19:41</td>\n",
       "      <td>22601</td>\n",
       "      <td>1.0</td>\n",
       "      <td>Covid doesn't scare me; I think masks are unne...</td>\n",
       "      <td>1.0</td>\n",
       "      <td>NaN</td>\n",
       "      <td>I hate all of the restrictions--I had to quara...</td>\n",
       "      <td>...</td>\n",
       "      <td>NaN</td>\n",
       "      <td>NaN</td>\n",
       "      <td>No</td>\n",
       "      <td>Woman</td>\n",
       "      <td>NaN</td>\n",
       "      <td>-16</td>\n",
       "      <td>1 year</td>\n",
       "      <td>False</td>\n",
       "      <td>White</td>\n",
       "      <td>40,001 - 75,000</td>\n",
       "    </tr>\n",
       "    <tr>\n",
       "      <th>4</th>\n",
       "      <td>12488363511</td>\n",
       "      <td>399921329</td>\n",
       "      <td>2021-03-13 07:56:08</td>\n",
       "      <td>2021-03-13 08:00:58</td>\n",
       "      <td>22304</td>\n",
       "      <td>2.0</td>\n",
       "      <td>NaN</td>\n",
       "      <td>1.0</td>\n",
       "      <td>No impact</td>\n",
       "      <td>Becoming sick with COVID and being unable to c...</td>\n",
       "      <td>...</td>\n",
       "      <td>NaN</td>\n",
       "      <td>NaN</td>\n",
       "      <td>No</td>\n",
       "      <td>Woman</td>\n",
       "      <td>NaN</td>\n",
       "      <td>-5</td>\n",
       "      <td>1 year</td>\n",
       "      <td>False</td>\n",
       "      <td>White</td>\n",
       "      <td>125,001 and over</td>\n",
       "    </tr>\n",
       "  </tbody>\n",
       "</table>\n",
       "<p>5 rows × 37 columns</p>\n",
       "</div>"
      ],
      "text/plain": [
       "   respondent_id  collector_id               start                 end    zip  \\\n",
       "0    12488725288     399921329 2021-03-13 12:23:16 2021-03-13 12:31:36  20124   \n",
       "1      124886789     399921329 2021-03-13 11:48:18 2021-03-13 11:51:46  22191   \n",
       "2      124884534     399921329 2021-03-13 09:25:30 2021-03-13 09:37:07  22181   \n",
       "3    12488374327     399921329 2021-03-13 08:04:15 2021-03-13 08:19:41  22601   \n",
       "4    12488363511     399921329 2021-03-13 07:56:08 2021-03-13 08:00:58  22304   \n",
       "\n",
       "   q01_overall                                   q01_overall_open  \\\n",
       "0          1.0                                                NaN   \n",
       "1          2.0                                                NaN   \n",
       "2          1.0                                                NaN   \n",
       "3          1.0  Covid doesn't scare me; I think masks are unne...   \n",
       "4          2.0                                                NaN   \n",
       "\n",
       "   q02_financial q02_financial_open  \\\n",
       "0            1.0                NaN   \n",
       "1            2.0                NaN   \n",
       "2            1.0                NaN   \n",
       "3            1.0                NaN   \n",
       "4            1.0          No impact   \n",
       "\n",
       "                                  q03_pregnancy_open  ... q06_support_none  \\\n",
       "0  Understanding transmission of COVID 19 and how...  ...              NaN   \n",
       "1  How the vaccine affects both pregnancy and pos...  ...              NaN   \n",
       "2                     Get Covid and be hospitalized.  ...              NaN   \n",
       "3  I hate all of the restrictions--I had to quara...  ...              NaN   \n",
       "4  Becoming sick with COVID and being unable to c...  ...              NaN   \n",
       "\n",
       "  q06_support_other q08_hispanic q09_gender  \\\n",
       "0               NaN           No      Woman   \n",
       "1               NaN           No      Woman   \n",
       "2               NaN          Yes      Woman   \n",
       "3               NaN           No      Woman   \n",
       "4               NaN           No      Woman   \n",
       "\n",
       "                                            q11_open duration pregnancy_stage  \\\n",
       "0  The support we had while in the maternity ward...       -9          1 year   \n",
       "1                                                NaN       -4   3rd trimester   \n",
       "2  Because of COVID, my husband hasn�t been avail...      -12   3rd trimester   \n",
       "3                                                NaN      -16          1 year   \n",
       "4                                                NaN       -5          1 year   \n",
       "\n",
       "  miscarriage   race             income  \n",
       "0       False  White   125,001 and over  \n",
       "1       False  Black  100,001 - 125,000  \n",
       "2       False  White  100,001 - 125,000  \n",
       "3       False  White    40,001 - 75,000  \n",
       "4       False  White   125,001 and over  \n",
       "\n",
       "[5 rows x 37 columns]"
      ]
     },
     "execution_count": 2,
     "metadata": {},
     "output_type": "execute_result"
    }
   ],
   "source": [
    "df = pd.read_excel('survey_data.xlsx')\n",
    "\n",
    "df.head()"
   ]
  },
  {
   "cell_type": "code",
   "execution_count": 3,
   "id": "prompt-blues",
   "metadata": {},
   "outputs": [
    {
     "data": {
      "text/plain": [
       "(712, 37)"
      ]
     },
     "execution_count": 3,
     "metadata": {},
     "output_type": "execute_result"
    }
   ],
   "source": [
    "df.shape"
   ]
  },
  {
   "cell_type": "markdown",
   "id": "duplicate-combining",
   "metadata": {},
   "source": [
    "## Examining available personal characteristics for fitness in persona description"
   ]
  },
  {
   "cell_type": "code",
   "execution_count": 4,
   "id": "passive-toilet",
   "metadata": {},
   "outputs": [
    {
     "data": {
      "text/plain": [
       "race                0\n",
       "q09_gender         87\n",
       "zip                14\n",
       "pregnancy_stage     0\n",
       "income             96\n",
       "miscarriage         0\n",
       "dtype: int64"
      ]
     },
     "execution_count": 4,
     "metadata": {},
     "output_type": "execute_result"
    }
   ],
   "source": [
    "df[['race', 'q09_gender', 'zip', 'pregnancy_stage', 'income', 'miscarriage']] .isnull().sum()"
   ]
  },
  {
   "cell_type": "markdown",
   "id": "turkish-tonight",
   "metadata": {},
   "source": [
    "## Race"
   ]
  },
  {
   "cell_type": "code",
   "execution_count": 5,
   "id": "adequate-advance",
   "metadata": {},
   "outputs": [
    {
     "data": {
      "text/plain": [
       "White                 512\n",
       "Undisclosed            90\n",
       "Black                  41\n",
       "Asian                  36\n",
       "Multiracial            21\n",
       "Hispanic or Latino      6\n",
       "American Indian         3\n",
       "Pacific Islander        3\n",
       "Name: race, dtype: int64"
      ]
     },
     "execution_count": 5,
     "metadata": {},
     "output_type": "execute_result"
    }
   ],
   "source": [
    "df.race.value_counts()"
   ]
  },
  {
   "cell_type": "markdown",
   "id": "extraordinary-proof",
   "metadata": {},
   "source": [
    "**We have resonable counts to look as white, black, and asian. If we want to look at hispanic/latino we may need to reconfigure the data and use this as a seperate variable.**"
   ]
  },
  {
   "cell_type": "markdown",
   "id": "existing-daughter",
   "metadata": {},
   "source": [
    "## Hispanic"
   ]
  },
  {
   "cell_type": "code",
   "execution_count": 6,
   "id": "korean-timber",
   "metadata": {},
   "outputs": [
    {
     "data": {
      "text/plain": [
       "No     585\n",
       "Yes     40\n",
       "Name: q08_hispanic, dtype: int64"
      ]
     },
     "execution_count": 6,
     "metadata": {},
     "output_type": "execute_result"
    }
   ],
   "source": [
    "df.q08_hispanic.value_counts()"
   ]
  },
  {
   "cell_type": "markdown",
   "id": "suitable-starter",
   "metadata": {},
   "source": [
    "**Sample size appears adaquite**"
   ]
  },
  {
   "cell_type": "markdown",
   "id": "prostate-amount",
   "metadata": {},
   "source": [
    "## Gender Identity"
   ]
  },
  {
   "cell_type": "code",
   "execution_count": 7,
   "id": "periodic-translator",
   "metadata": {},
   "outputs": [
    {
     "data": {
      "text/plain": [
       "Woman                                  619\n",
       "Man                                      4\n",
       "Not specified above, please specify      2\n",
       "Name: q09_gender, dtype: int64"
      ]
     },
     "execution_count": 7,
     "metadata": {},
     "output_type": "execute_result"
    }
   ],
   "source": [
    "df.q09_gender.value_counts()"
   ]
  },
  {
   "cell_type": "markdown",
   "id": "precious-length",
   "metadata": {},
   "source": [
    "**Probly not a good catagory to use only 6/712 are not wemon**"
   ]
  },
  {
   "cell_type": "markdown",
   "id": "romance-sally",
   "metadata": {},
   "source": [
    "## Zipcode"
   ]
  },
  {
   "cell_type": "code",
   "execution_count": 8,
   "id": "focal-negative",
   "metadata": {},
   "outputs": [
    {
     "data": {
      "text/plain": [
       "23225    15\n",
       "22701    14\n",
       "22191    13\n",
       "23227    11\n",
       "22801    11\n",
       "         ..\n",
       "20695     1\n",
       "22747     1\n",
       "43230     1\n",
       "22213     1\n",
       "0         1\n",
       "Name: zip, Length: 253, dtype: int64"
      ]
     },
     "execution_count": 8,
     "metadata": {},
     "output_type": "execute_result"
    }
   ],
   "source": [
    "df.zip.value_counts()"
   ]
  },
  {
   "cell_type": "markdown",
   "id": "southern-developer",
   "metadata": {},
   "source": [
    "**235 distinct values, tieing these codes together into neighborhoods could give us some info and help tell a story**"
   ]
  },
  {
   "cell_type": "code",
   "execution_count": 9,
   "id": "brown-ontario",
   "metadata": {},
   "outputs": [
    {
     "data": {
      "text/plain": [
       "1 year           416\n",
       "3rd trimester     90\n",
       "2 years           74\n",
       "2nd trimester     62\n",
       "multi             46\n",
       "1st trimester     14\n",
       "caregiver         10\n",
       "Name: pregnancy_stage, dtype: int64"
      ]
     },
     "execution_count": 9,
     "metadata": {},
     "output_type": "execute_result"
    }
   ],
   "source": [
    "df.pregnancy_stage.value_counts()"
   ]
  },
  {
   "cell_type": "code",
   "execution_count": 10,
   "id": "raising-asset",
   "metadata": {},
   "outputs": [
    {
     "data": {
      "text/plain": [
       "<AxesSubplot:title={'center':'Distribution of Stage Data'}>"
      ]
     },
     "execution_count": 10,
     "metadata": {},
     "output_type": "execute_result"
    },
    {
     "data": {
      "image/png": "[encoded data removed]",
      "text/plain": [
       "<Figure size 432x288 with 1 Axes>"
      ]
     },
     "metadata": {
      "needs_background": "light"
     },
     "output_type": "display_data"
    }
   ],
   "source": [
    "df.pregnancy_stage.value_counts().plot(kind='bar', title=\"Distribution of Stage Data\")"
   ]
  },
  {
   "cell_type": "markdown",
   "id": "chubby-austin",
   "metadata": {},
   "source": [
    "**Uneven distribution (Way more at one year). Odd to include as part of a persona. First trimester and care giver are low sample sizes. Recomend looking at latter to see if needs differ at different stages but not to include in the personas.** "
   ]
  },
  {
   "cell_type": "markdown",
   "id": "sunset-absorption",
   "metadata": {},
   "source": [
    "## Income"
   ]
  },
  {
   "cell_type": "code",
   "execution_count": 11,
   "id": "basic-cardiff",
   "metadata": {},
   "outputs": [
    {
     "data": {
      "text/plain": [
       "125,001 and over     238\n",
       "75,001 - 100,000     115\n",
       "100,001 - 125,000    105\n",
       "40,001 - 75,000      104\n",
       "40,000 and under      53\n",
       "$40,000 or under       1\n",
       "Name: income, dtype: int64"
      ]
     },
     "execution_count": 11,
     "metadata": {},
     "output_type": "execute_result"
    }
   ],
   "source": [
    "df.income.value_counts()"
   ]
  },
  {
   "cell_type": "code",
   "execution_count": 12,
   "id": "alternative-richards",
   "metadata": {},
   "outputs": [
    {
     "data": {
      "text/plain": [
       "<AxesSubplot:title={'center':'Distribution of Income'}>"
      ]
     },
     "execution_count": 12,
     "metadata": {},
     "output_type": "execute_result"
    },
    {
     "data": {
      "image/png": "[encoded data removed]",
      "text/plain": [
       "<Figure size 432x288 with 1 Axes>"
      ]
     },
     "metadata": {
      "needs_background": "light"
     },
     "output_type": "display_data"
    }
   ],
   "source": [
    "df.income.value_counts().plot(kind='bar', title=\"Distribution of Income\")"
   ]
  },
  {
   "cell_type": "markdown",
   "id": "simplified-distinction",
   "metadata": {},
   "source": [
    "**Higher income is overepresented. Adequate sample sizes for each veriable. One row needs to be combined with 40,000 and under.Could use mode salary for neighberhood to fill nulls.**"
   ]
  },
  {
   "cell_type": "markdown",
   "id": "physical-terrace",
   "metadata": {},
   "source": [
    "## Micarriage"
   ]
  },
  {
   "cell_type": "code",
   "execution_count": 13,
   "id": "minus-wiring",
   "metadata": {},
   "outputs": [
    {
     "data": {
      "text/plain": [
       "False    708\n",
       "True       4\n",
       "Name: miscarriage, dtype: int64"
      ]
     },
     "execution_count": 13,
     "metadata": {},
     "output_type": "execute_result"
    }
   ],
   "source": [
    "df.miscarriage.value_counts()"
   ]
  },
  {
   "cell_type": "markdown",
   "id": "central-microwave",
   "metadata": {},
   "source": [
    "**True value not adequate sample size, suggest dropping the feature**"
   ]
  },
  {
   "cell_type": "markdown",
   "id": "wanted-housing",
   "metadata": {},
   "source": [
    "## Examining quantitative data for fitness in persona description"
   ]
  },
  {
   "cell_type": "code",
   "execution_count": 14,
   "id": "earned-bhutan",
   "metadata": {},
   "outputs": [
    {
     "data": {
      "text/plain": [
       "Index(['respondent_id', 'collector_id', 'start', 'end', 'zip', 'q01_overall',\n",
       "       'q01_overall_open', 'q02_financial', 'q02_financial_open',\n",
       "       'q03_pregnancy_open', 'q04_feeding_open', 'q05_needs_1st',\n",
       "       'q05_needs_2nd', 'q05_needs_3rd', 'q06_birthdoula',\n",
       "       'q06_postpartumdoula', 'q06_lactation', 'q06_mentalhealth',\n",
       "       'q06_social', 'q06_diapers', 'q06_formula', 'q06_food', 'q06_housing',\n",
       "       'q06_transportation', 'q06_healthinsurance', 'q06_financial',\n",
       "       'q06_covid19education', 'q06_support_none', 'q06_support_other',\n",
       "       'q08_hispanic', 'q09_gender', 'q11_open', 'duration', 'pregnancy_stage',\n",
       "       'miscarriage', 'race', 'income'],\n",
       "      dtype='object')"
      ]
     },
     "execution_count": 14,
     "metadata": {},
     "output_type": "execute_result"
    }
   ],
   "source": [
    "df.columns"
   ]
  },
  {
   "cell_type": "code",
   "execution_count": 15,
   "id": "compound-mouth",
   "metadata": {},
   "outputs": [],
   "source": [
    "df_quan =df[['q01_overall', 'q02_financial','q06_birthdoula','q06_postpartumdoula', 'q06_lactation', 'q06_mentalhealth',\n",
    "       'q06_social', 'q06_diapers', 'q06_formula', 'q06_food', 'q06_housing',\n",
    "       'q06_transportation', 'q06_healthinsurance', 'q06_financial',\n",
    "       'q06_covid19education', 'q06_support_none', 'q06_support_other', 'duration']]"
   ]
  },
  {
   "cell_type": "code",
   "execution_count": 16,
   "id": "occasional-breathing",
   "metadata": {},
   "outputs": [
    {
     "data": {
      "text/plain": [
       "q01_overall              22\n",
       "q02_financial            25\n",
       "q06_birthdoula          559\n",
       "q06_postpartumdoula     458\n",
       "q06_lactation           441\n",
       "q06_mentalhealth        337\n",
       "q06_social              225\n",
       "q06_diapers             657\n",
       "q06_formula             669\n",
       "q06_food                667\n",
       "q06_housing             692\n",
       "q06_transportation      703\n",
       "q06_healthinsurance     640\n",
       "q06_financial           595\n",
       "q06_covid19education    561\n",
       "q06_support_none        673\n",
       "q06_support_other       686\n",
       "duration                  0\n",
       "dtype: int64"
      ]
     },
     "execution_count": 16,
     "metadata": {},
     "output_type": "execute_result"
    }
   ],
   "source": [
    "df_quan.isnull().sum()"
   ]
  },
  {
   "cell_type": "markdown",
   "id": "cosmetic-strip",
   "metadata": {},
   "source": [
    "## Overall Wellbeing"
   ]
  },
  {
   "cell_type": "code",
   "execution_count": 17,
   "id": "mathematical-hungarian",
   "metadata": {},
   "outputs": [
    {
     "data": {
      "text/plain": [
       "2.0    327\n",
       "3.0    154\n",
       "1.0    104\n",
       "4.0     99\n",
       "5.0      6\n",
       "Name: q01_overall, dtype: int64"
      ]
     },
     "execution_count": 17,
     "metadata": {},
     "output_type": "execute_result"
    }
   ],
   "source": [
    "df.q01_overall.value_counts()"
   ]
  },
  {
   "cell_type": "code",
   "execution_count": 18,
   "id": "ecological-quarter",
   "metadata": {},
   "outputs": [
    {
     "data": {
      "text/plain": [
       "<AxesSubplot:title={'center':'Distribution of Overall Rating'}>"
      ]
     },
     "execution_count": 18,
     "metadata": {},
     "output_type": "execute_result"
    },
    {
     "data": {
      "image/png": "[encoded data removed]",
      "text/plain": [
       "<Figure size 432x288 with 1 Axes>"
      ]
     },
     "metadata": {
      "needs_background": "light"
     },
     "output_type": "display_data"
    }
   ],
   "source": [
    "df.q01_overall.value_counts().plot(kind='bar', title=\"Distribution of Overall Rating\")"
   ]
  },
  {
   "cell_type": "markdown",
   "id": "complete-willow",
   "metadata": {},
   "source": [
    "**All groups but \"barely making it\" represented. \"doing OK\" is overepresented. Data should really be in catagories rather than represented numerically.**"
   ]
  },
  {
   "cell_type": "markdown",
   "id": "common-cornwall",
   "metadata": {},
   "source": [
    "## Financial Wellbeing"
   ]
  },
  {
   "cell_type": "code",
   "execution_count": 19,
   "id": "stunning-pitch",
   "metadata": {},
   "outputs": [
    {
     "data": {
      "text/plain": [
       "1.0    314\n",
       "2.0    235\n",
       "3.0     75\n",
       "4.0     51\n",
       "5.0     12\n",
       "Name: q02_financial, dtype: int64"
      ]
     },
     "execution_count": 19,
     "metadata": {},
     "output_type": "execute_result"
    }
   ],
   "source": [
    "df.q02_financial.value_counts()"
   ]
  },
  {
   "cell_type": "code",
   "execution_count": 20,
   "id": "canadian-deviation",
   "metadata": {},
   "outputs": [
    {
     "data": {
      "text/plain": [
       "<AxesSubplot:title={'center':'Distribution of Financial Rating'}>"
      ]
     },
     "execution_count": 20,
     "metadata": {},
     "output_type": "execute_result"
    },
    {
     "data": {
      "image/png": "[encoded data removed]",
      "text/plain": [
       "<Figure size 432x288 with 1 Axes>"
      ]
     },
     "metadata": {
      "needs_background": "light"
     },
     "output_type": "display_data"
    }
   ],
   "source": [
    "df.q02_financial.value_counts().plot(kind='bar', title=\"Distribution of Financial Rating\")"
   ]
  },
  {
   "cell_type": "markdown",
   "id": "south-tension",
   "metadata": {},
   "source": [
    "**All groups but \"barely making it\" represented. Data should really be in catagories rather than represented numerically.**"
   ]
  },
  {
   "cell_type": "code",
   "execution_count": null,
   "id": "modified-schedule",
   "metadata": {},
   "outputs": [],
   "source": []
  },
  {
   "cell_type": "code",
   "execution_count": 21,
   "id": "wooden-database",
   "metadata": {},
   "outputs": [
    {
     "data": {
      "text/html": [
       "<div>\n",
       "<style scoped>\n",
       "    .dataframe tbody tr th:only-of-type {\n",
       "        vertical-align: middle;\n",
       "    }\n",
       "\n",
       "    .dataframe tbody tr th {\n",
       "        vertical-align: top;\n",
       "    }\n",
       "\n",
       "    .dataframe thead th {\n",
       "        text-align: right;\n",
       "    }\n",
       "</style>\n",
       "<table border=\"1\" class=\"dataframe\">\n",
       "  <thead>\n",
       "    <tr style=\"text-align: right;\">\n",
       "      <th></th>\n",
       "      <th>q06_birthdoula</th>\n",
       "      <th>q06_postpartumdoula</th>\n",
       "      <th>q06_lactation</th>\n",
       "      <th>q06_mentalhealth</th>\n",
       "      <th>q06_social</th>\n",
       "      <th>q06_diapers</th>\n",
       "      <th>q06_formula</th>\n",
       "      <th>q06_food</th>\n",
       "      <th>q06_housing</th>\n",
       "      <th>q06_transportation</th>\n",
       "      <th>q06_healthinsurance</th>\n",
       "      <th>q06_financial</th>\n",
       "      <th>q06_covid19education</th>\n",
       "      <th>q06_support_none</th>\n",
       "    </tr>\n",
       "  </thead>\n",
       "  <tbody>\n",
       "    <tr>\n",
       "      <th>0</th>\n",
       "      <td>NaN</td>\n",
       "      <td>Postpartum Doula Support</td>\n",
       "      <td>Breastfeeding or Lactation Support</td>\n",
       "      <td>NaN</td>\n",
       "      <td>Social Support - i.e. connections with family,...</td>\n",
       "      <td>NaN</td>\n",
       "      <td>NaN</td>\n",
       "      <td>NaN</td>\n",
       "      <td>NaN</td>\n",
       "      <td>NaN</td>\n",
       "      <td>Health Insurance Coverage</td>\n",
       "      <td>NaN</td>\n",
       "      <td>Education/Informational Resources related to C...</td>\n",
       "      <td>NaN</td>\n",
       "    </tr>\n",
       "    <tr>\n",
       "      <th>1</th>\n",
       "      <td>NaN</td>\n",
       "      <td>NaN</td>\n",
       "      <td>Breastfeeding or Lactation Support</td>\n",
       "      <td>NaN</td>\n",
       "      <td>NaN</td>\n",
       "      <td>NaN</td>\n",
       "      <td>NaN</td>\n",
       "      <td>NaN</td>\n",
       "      <td>NaN</td>\n",
       "      <td>NaN</td>\n",
       "      <td>NaN</td>\n",
       "      <td>NaN</td>\n",
       "      <td>Education/Informational Resources related to C...</td>\n",
       "      <td>NaN</td>\n",
       "    </tr>\n",
       "    <tr>\n",
       "      <th>2</th>\n",
       "      <td>NaN</td>\n",
       "      <td>Postpartum Doula Support</td>\n",
       "      <td>Breastfeeding or Lactation Support</td>\n",
       "      <td>Mental Health Support</td>\n",
       "      <td>NaN</td>\n",
       "      <td>NaN</td>\n",
       "      <td>NaN</td>\n",
       "      <td>NaN</td>\n",
       "      <td>NaN</td>\n",
       "      <td>NaN</td>\n",
       "      <td>NaN</td>\n",
       "      <td>NaN</td>\n",
       "      <td>Education/Informational Resources related to C...</td>\n",
       "      <td>NaN</td>\n",
       "    </tr>\n",
       "    <tr>\n",
       "      <th>3</th>\n",
       "      <td>NaN</td>\n",
       "      <td>NaN</td>\n",
       "      <td>Breastfeeding or Lactation Support</td>\n",
       "      <td>Mental Health Support</td>\n",
       "      <td>Social Support - i.e. connections with family,...</td>\n",
       "      <td>NaN</td>\n",
       "      <td>NaN</td>\n",
       "      <td>NaN</td>\n",
       "      <td>NaN</td>\n",
       "      <td>NaN</td>\n",
       "      <td>NaN</td>\n",
       "      <td>NaN</td>\n",
       "      <td>NaN</td>\n",
       "      <td>NaN</td>\n",
       "    </tr>\n",
       "    <tr>\n",
       "      <th>4</th>\n",
       "      <td>NaN</td>\n",
       "      <td>Postpartum Doula Support</td>\n",
       "      <td>NaN</td>\n",
       "      <td>NaN</td>\n",
       "      <td>Social Support - i.e. connections with family,...</td>\n",
       "      <td>NaN</td>\n",
       "      <td>NaN</td>\n",
       "      <td>NaN</td>\n",
       "      <td>NaN</td>\n",
       "      <td>NaN</td>\n",
       "      <td>NaN</td>\n",
       "      <td>NaN</td>\n",
       "      <td>NaN</td>\n",
       "      <td>NaN</td>\n",
       "    </tr>\n",
       "    <tr>\n",
       "      <th>...</th>\n",
       "      <td>...</td>\n",
       "      <td>...</td>\n",
       "      <td>...</td>\n",
       "      <td>...</td>\n",
       "      <td>...</td>\n",
       "      <td>...</td>\n",
       "      <td>...</td>\n",
       "      <td>...</td>\n",
       "      <td>...</td>\n",
       "      <td>...</td>\n",
       "      <td>...</td>\n",
       "      <td>...</td>\n",
       "      <td>...</td>\n",
       "      <td>...</td>\n",
       "    </tr>\n",
       "    <tr>\n",
       "      <th>707</th>\n",
       "      <td>NaN</td>\n",
       "      <td>Postpartum Doula Support</td>\n",
       "      <td>Breastfeeding or Lactation Support</td>\n",
       "      <td>Mental Health Support</td>\n",
       "      <td>Social Support - i.e. connections with family,...</td>\n",
       "      <td>NaN</td>\n",
       "      <td>NaN</td>\n",
       "      <td>NaN</td>\n",
       "      <td>NaN</td>\n",
       "      <td>NaN</td>\n",
       "      <td>NaN</td>\n",
       "      <td>NaN</td>\n",
       "      <td>NaN</td>\n",
       "      <td>NaN</td>\n",
       "    </tr>\n",
       "    <tr>\n",
       "      <th>708</th>\n",
       "      <td>NaN</td>\n",
       "      <td>NaN</td>\n",
       "      <td>NaN</td>\n",
       "      <td>Mental Health Support</td>\n",
       "      <td>Social Support - i.e. connections with family,...</td>\n",
       "      <td>NaN</td>\n",
       "      <td>NaN</td>\n",
       "      <td>NaN</td>\n",
       "      <td>NaN</td>\n",
       "      <td>NaN</td>\n",
       "      <td>NaN</td>\n",
       "      <td>Financial Support</td>\n",
       "      <td>NaN</td>\n",
       "      <td>NaN</td>\n",
       "    </tr>\n",
       "    <tr>\n",
       "      <th>709</th>\n",
       "      <td>NaN</td>\n",
       "      <td>Postpartum Doula Support</td>\n",
       "      <td>Breastfeeding or Lactation Support</td>\n",
       "      <td>Mental Health Support</td>\n",
       "      <td>Social Support - i.e. connections with family,...</td>\n",
       "      <td>NaN</td>\n",
       "      <td>NaN</td>\n",
       "      <td>NaN</td>\n",
       "      <td>NaN</td>\n",
       "      <td>NaN</td>\n",
       "      <td>NaN</td>\n",
       "      <td>NaN</td>\n",
       "      <td>NaN</td>\n",
       "      <td>NaN</td>\n",
       "    </tr>\n",
       "    <tr>\n",
       "      <th>710</th>\n",
       "      <td>NaN</td>\n",
       "      <td>NaN</td>\n",
       "      <td>NaN</td>\n",
       "      <td>NaN</td>\n",
       "      <td>Social Support - i.e. connections with family,...</td>\n",
       "      <td>NaN</td>\n",
       "      <td>NaN</td>\n",
       "      <td>NaN</td>\n",
       "      <td>NaN</td>\n",
       "      <td>NaN</td>\n",
       "      <td>Health Insurance Coverage</td>\n",
       "      <td>Financial Support</td>\n",
       "      <td>NaN</td>\n",
       "      <td>NaN</td>\n",
       "    </tr>\n",
       "    <tr>\n",
       "      <th>711</th>\n",
       "      <td>Birth Doula Support</td>\n",
       "      <td>Postpartum Doula Support</td>\n",
       "      <td>NaN</td>\n",
       "      <td>NaN</td>\n",
       "      <td>Social Support - i.e. connections with family,...</td>\n",
       "      <td>NaN</td>\n",
       "      <td>NaN</td>\n",
       "      <td>NaN</td>\n",
       "      <td>NaN</td>\n",
       "      <td>NaN</td>\n",
       "      <td>NaN</td>\n",
       "      <td>NaN</td>\n",
       "      <td>NaN</td>\n",
       "      <td>NaN</td>\n",
       "    </tr>\n",
       "  </tbody>\n",
       "</table>\n",
       "<p>712 rows × 14 columns</p>\n",
       "</div>"
      ],
      "text/plain": [
       "          q06_birthdoula       q06_postpartumdoula  \\\n",
       "0                    NaN  Postpartum Doula Support   \n",
       "1                    NaN                       NaN   \n",
       "2                    NaN  Postpartum Doula Support   \n",
       "3                    NaN                       NaN   \n",
       "4                    NaN  Postpartum Doula Support   \n",
       "..                   ...                       ...   \n",
       "707                  NaN  Postpartum Doula Support   \n",
       "708                  NaN                       NaN   \n",
       "709                  NaN  Postpartum Doula Support   \n",
       "710                  NaN                       NaN   \n",
       "711  Birth Doula Support  Postpartum Doula Support   \n",
       "\n",
       "                          q06_lactation       q06_mentalhealth  \\\n",
       "0    Breastfeeding or Lactation Support                    NaN   \n",
       "1    Breastfeeding or Lactation Support                    NaN   \n",
       "2    Breastfeeding or Lactation Support  Mental Health Support   \n",
       "3    Breastfeeding or Lactation Support  Mental Health Support   \n",
       "4                                   NaN                    NaN   \n",
       "..                                  ...                    ...   \n",
       "707  Breastfeeding or Lactation Support  Mental Health Support   \n",
       "708                                 NaN  Mental Health Support   \n",
       "709  Breastfeeding or Lactation Support  Mental Health Support   \n",
       "710                                 NaN                    NaN   \n",
       "711                                 NaN                    NaN   \n",
       "\n",
       "                                            q06_social q06_diapers  \\\n",
       "0    Social Support - i.e. connections with family,...         NaN   \n",
       "1                                                  NaN         NaN   \n",
       "2                                                  NaN         NaN   \n",
       "3    Social Support - i.e. connections with family,...         NaN   \n",
       "4    Social Support - i.e. connections with family,...         NaN   \n",
       "..                                                 ...         ...   \n",
       "707  Social Support - i.e. connections with family,...         NaN   \n",
       "708  Social Support - i.e. connections with family,...         NaN   \n",
       "709  Social Support - i.e. connections with family,...         NaN   \n",
       "710  Social Support - i.e. connections with family,...         NaN   \n",
       "711  Social Support - i.e. connections with family,...         NaN   \n",
       "\n",
       "    q06_formula q06_food q06_housing q06_transportation  \\\n",
       "0           NaN      NaN         NaN                NaN   \n",
       "1           NaN      NaN         NaN                NaN   \n",
       "2           NaN      NaN         NaN                NaN   \n",
       "3           NaN      NaN         NaN                NaN   \n",
       "4           NaN      NaN         NaN                NaN   \n",
       "..          ...      ...         ...                ...   \n",
       "707         NaN      NaN         NaN                NaN   \n",
       "708         NaN      NaN         NaN                NaN   \n",
       "709         NaN      NaN         NaN                NaN   \n",
       "710         NaN      NaN         NaN                NaN   \n",
       "711         NaN      NaN         NaN                NaN   \n",
       "\n",
       "           q06_healthinsurance      q06_financial  \\\n",
       "0    Health Insurance Coverage                NaN   \n",
       "1                          NaN                NaN   \n",
       "2                          NaN                NaN   \n",
       "3                          NaN                NaN   \n",
       "4                          NaN                NaN   \n",
       "..                         ...                ...   \n",
       "707                        NaN                NaN   \n",
       "708                        NaN  Financial Support   \n",
       "709                        NaN                NaN   \n",
       "710  Health Insurance Coverage  Financial Support   \n",
       "711                        NaN                NaN   \n",
       "\n",
       "                                  q06_covid19education q06_support_none  \n",
       "0    Education/Informational Resources related to C...              NaN  \n",
       "1    Education/Informational Resources related to C...              NaN  \n",
       "2    Education/Informational Resources related to C...              NaN  \n",
       "3                                                  NaN              NaN  \n",
       "4                                                  NaN              NaN  \n",
       "..                                                 ...              ...  \n",
       "707                                                NaN              NaN  \n",
       "708                                                NaN              NaN  \n",
       "709                                                NaN              NaN  \n",
       "710                                                NaN              NaN  \n",
       "711                                                NaN              NaN  \n",
       "\n",
       "[712 rows x 14 columns]"
      ]
     },
     "execution_count": 21,
     "metadata": {},
     "output_type": "execute_result"
    }
   ],
   "source": [
    "df[['q06_birthdoula','q06_postpartumdoula', 'q06_lactation', 'q06_mentalhealth',\n",
    "       'q06_social', 'q06_diapers', 'q06_formula', 'q06_food', 'q06_housing',\n",
    "       'q06_transportation', 'q06_healthinsurance', 'q06_financial',\n",
    "       'q06_covid19education', 'q06_support_none']]"
   ]
  },
  {
   "cell_type": "code",
   "execution_count": 22,
   "id": "occupied-greeting",
   "metadata": {},
   "outputs": [
    {
     "name": "stdout",
     "output_type": "stream",
     "text": [
      "q06_birthdoula     \n",
      "Birth Doula Support    153\n",
      "dtype: int64\n",
      "q06_postpartumdoula     \n",
      "Postpartum Doula Support    254\n",
      "dtype: int64\n",
      "q06_lactation                     \n",
      "Breastfeeding or Lactation Support    271\n",
      "dtype: int64\n",
      "q06_mentalhealth     \n",
      "Mental Health Support    375\n",
      "dtype: int64\n",
      "q06_social                                                       \n",
      "Social Support - i.e. connections with family, friends, and peers    487\n",
      "dtype: int64\n",
      "q06_diapers      \n",
      "Access to Diapers    55\n",
      "dtype: int64\n",
      "q06_formula      \n",
      "Access to Formula    43\n",
      "dtype: int64\n",
      "q06_food   \n",
      "Food Access    45\n",
      "dtype: int64\n",
      "q06_housing    \n",
      "Housing Support    20\n",
      "dtype: int64\n",
      "q06_transportation\n",
      "Transportation        9\n",
      "dtype: int64\n",
      "q06_healthinsurance      \n",
      "Health Insurance Coverage    72\n",
      "dtype: int64\n",
      "q06_financial    \n",
      "Financial Support    117\n",
      "dtype: int64\n",
      "q06_covid19education                                 \n",
      "Education/Informational Resources related to COVID-19    151\n",
      "dtype: int64\n",
      "q06_support_none \n",
      "No Support Needed    39\n",
      "dtype: int64\n"
     ]
    }
   ],
   "source": [
    "cols = ['q06_birthdoula','q06_postpartumdoula', 'q06_lactation', 'q06_mentalhealth',\n",
    "       'q06_social', 'q06_diapers', 'q06_formula', 'q06_food', 'q06_housing',\n",
    "       'q06_transportation', 'q06_healthinsurance', 'q06_financial',\n",
    "       'q06_covid19education', 'q06_support_none']\n",
    "\n",
    "for col in cols:\n",
    "\n",
    "    print(df[[col]].value_counts())"
   ]
  },
  {
   "cell_type": "code",
   "execution_count": 23,
   "id": "approximate-holly",
   "metadata": {},
   "outputs": [
    {
     "data": {
      "text/plain": [
       "count      712.000000\n",
       "mean       -34.675562\n",
       "std        506.979140\n",
       "min     -13391.000000\n",
       "25%         -9.000000\n",
       "50%         -6.000000\n",
       "75%         -4.000000\n",
       "max         -1.000000\n",
       "Name: duration, dtype: float64"
      ]
     },
     "execution_count": 23,
     "metadata": {},
     "output_type": "execute_result"
    }
   ],
   "source": [
    "df.duration.describe()"
   ]
  },
  {
   "cell_type": "markdown",
   "id": "green-championship",
   "metadata": {},
   "source": [
    "## Examining qualitative data for fitness in persona description"
   ]
  },
  {
   "cell_type": "code",
   "execution_count": 24,
   "id": "protected-wagner",
   "metadata": {},
   "outputs": [
    {
     "data": {
      "text/plain": [
       "Index(['respondent_id', 'collector_id', 'start', 'end', 'zip', 'q01_overall',\n",
       "       'q01_overall_open', 'q02_financial', 'q02_financial_open',\n",
       "       'q03_pregnancy_open', 'q04_feeding_open', 'q05_needs_1st',\n",
       "       'q05_needs_2nd', 'q05_needs_3rd', 'q06_birthdoula',\n",
       "       'q06_postpartumdoula', 'q06_lactation', 'q06_mentalhealth',\n",
       "       'q06_social', 'q06_diapers', 'q06_formula', 'q06_food', 'q06_housing',\n",
       "       'q06_transportation', 'q06_healthinsurance', 'q06_financial',\n",
       "       'q06_covid19education', 'q06_support_none', 'q06_support_other',\n",
       "       'q08_hispanic', 'q09_gender', 'q11_open', 'duration', 'pregnancy_stage',\n",
       "       'miscarriage', 'race', 'income'],\n",
       "      dtype='object')"
      ]
     },
     "execution_count": 24,
     "metadata": {},
     "output_type": "execute_result"
    }
   ],
   "source": [
    "df.columns"
   ]
  },
  {
   "cell_type": "code",
   "execution_count": 25,
   "id": "surprising-proceeding",
   "metadata": {},
   "outputs": [],
   "source": [
    "df_qual= df[['q01_overall_open','q02_financial_open','q03_pregnancy_open', 'q04_feeding_open', \n",
    "           'q05_needs_1st','q05_needs_2nd', 'q05_needs_3rd', 'q06_support_other',\n",
    "           'q11_open']]"
   ]
  },
  {
   "cell_type": "code",
   "execution_count": 26,
   "id": "distributed-construction",
   "metadata": {},
   "outputs": [
    {
     "data": {
      "text/plain": [
       "q01_overall_open      653\n",
       "q02_financial_open    663\n",
       "q03_pregnancy_open     57\n",
       "q04_feeding_open       96\n",
       "q05_needs_1st         243\n",
       "q05_needs_2nd         344\n",
       "q05_needs_3rd         473\n",
       "q06_support_other     686\n",
       "q11_open              561\n",
       "dtype: int64"
      ]
     },
     "execution_count": 26,
     "metadata": {},
     "output_type": "execute_result"
    }
   ],
   "source": [
    "df_qual.isnull().sum()"
   ]
  },
  {
   "cell_type": "code",
   "execution_count": 27,
   "id": "linear-chile",
   "metadata": {
    "scrolled": true
   },
   "outputs": [
    {
     "data": {
      "text/plain": [
       "q01_overall_open       59\n",
       "q02_financial_open     49\n",
       "q03_pregnancy_open    655\n",
       "q04_feeding_open      616\n",
       "q05_needs_1st         469\n",
       "q05_needs_2nd         368\n",
       "q05_needs_3rd         239\n",
       "q06_support_other      26\n",
       "q11_open              151\n",
       "dtype: int64"
      ]
     },
     "execution_count": 27,
     "metadata": {},
     "output_type": "execute_result"
    }
   ],
   "source": [
    "df_qual.count()"
   ]
  },
  {
   "cell_type": "markdown",
   "id": "unable-walnut",
   "metadata": {},
   "source": [
    "**We have a lot of null values in the data**"
   ]
  },
  {
   "cell_type": "code",
   "execution_count": 28,
   "id": "south-visiting",
   "metadata": {},
   "outputs": [],
   "source": [
    "cats = ['race', 'pregnancy_stage', 'income']"
   ]
  },
  {
   "cell_type": "markdown",
   "id": "soviet-geometry",
   "metadata": {},
   "source": [
    "## Value counts of 'q01_overall_open' "
   ]
  },
  {
   "cell_type": "code",
   "execution_count": 29,
   "id": "caring-eagle",
   "metadata": {},
   "outputs": [
    {
     "name": "stdout",
     "output_type": "stream",
     "text": [
      "race            \n",
      "White               51\n",
      "Undisclosed          3\n",
      "Asian                2\n",
      "Multiracial          2\n",
      "Pacific Islander     1\n",
      "dtype: int64\n",
      "~~~~~~~~~~~~~~~~~~~~~~~~~~~~~~~~~~~~~~~~~~~~~~~~~~~~~~~~~~~~~~~~~~~~~~~~~~~\n",
      "pregnancy_stage\n",
      "1 year             32\n",
      "3rd trimester       7\n",
      "2 years             6\n",
      "2nd trimester       6\n",
      "multi               6\n",
      "1st trimester       1\n",
      "caregiver           1\n",
      "dtype: int64\n",
      "~~~~~~~~~~~~~~~~~~~~~~~~~~~~~~~~~~~~~~~~~~~~~~~~~~~~~~~~~~~~~~~~~~~~~~~~~~~\n",
      "income           \n",
      "125,001 and over     16\n",
      "40,001 - 75,000      15\n",
      "100,001 - 125,000    12\n",
      "75,001 - 100,000     12\n",
      "40,000 and under      1\n",
      "dtype: int64\n",
      "~~~~~~~~~~~~~~~~~~~~~~~~~~~~~~~~~~~~~~~~~~~~~~~~~~~~~~~~~~~~~~~~~~~~~~~~~~~\n"
     ]
    }
   ],
   "source": [
    "df = pd.read_excel('survey_data.xlsx')\n",
    "\n",
    "for cat in cats:\n",
    "    \n",
    "    df = df.dropna(subset=['q01_overall_open'])\n",
    "    \n",
    "    print(df[[cat]].value_counts())\n",
    "    print(\"~~~~~~~~~~~~~~~~~~~~~~~~~~~~~~~~~~~~~~~~~~~~~~~~~~~~~~~~~~~~~~~~~~~~~~~~~~~\")"
   ]
  },
  {
   "cell_type": "markdown",
   "id": "metropolitan-patent",
   "metadata": {},
   "source": [
    "## Value counts of 'q02_financial_open'"
   ]
  },
  {
   "cell_type": "code",
   "execution_count": 30,
   "id": "physical-atlantic",
   "metadata": {},
   "outputs": [
    {
     "name": "stdout",
     "output_type": "stream",
     "text": [
      "race       \n",
      "White          43\n",
      "Undisclosed     3\n",
      "Asian           2\n",
      "Multiracial     1\n",
      "dtype: int64\n",
      "~~~~~~~~~~~~~~~~~~~~~~~~~~~~~~~~~~~~~~~~~~~~~~~~~~~~~~~~~~~~~~~~~~~~~~~~~~~\n",
      "pregnancy_stage\n",
      "1 year             26\n",
      "3rd trimester       7\n",
      "2 years             6\n",
      "multi               5\n",
      "2nd trimester       4\n",
      "1st trimester       1\n",
      "dtype: int64\n",
      "~~~~~~~~~~~~~~~~~~~~~~~~~~~~~~~~~~~~~~~~~~~~~~~~~~~~~~~~~~~~~~~~~~~~~~~~~~~\n",
      "income           \n",
      "125,001 and over     15\n",
      "40,001 - 75,000      15\n",
      "100,001 - 125,000    10\n",
      "75,001 - 100,000      5\n",
      "40,000 and under      1\n",
      "dtype: int64\n",
      "~~~~~~~~~~~~~~~~~~~~~~~~~~~~~~~~~~~~~~~~~~~~~~~~~~~~~~~~~~~~~~~~~~~~~~~~~~~\n"
     ]
    }
   ],
   "source": [
    "df = pd.read_excel('survey_data.xlsx')\n",
    "\n",
    "for cat in cats:\n",
    "    \n",
    "    df = df.dropna(subset=['q02_financial_open'])\n",
    "    \n",
    "    print(df[[cat]].value_counts())\n",
    "    print(\"~~~~~~~~~~~~~~~~~~~~~~~~~~~~~~~~~~~~~~~~~~~~~~~~~~~~~~~~~~~~~~~~~~~~~~~~~~~\")"
   ]
  },
  {
   "cell_type": "markdown",
   "id": "handy-faculty",
   "metadata": {},
   "source": [
    "# Value counts of 'q03_pregnancy_open' == Usefull"
   ]
  },
  {
   "cell_type": "code",
   "execution_count": 31,
   "id": "british-aside",
   "metadata": {},
   "outputs": [
    {
     "name": "stdout",
     "output_type": "stream",
     "text": [
      "White                 512\n",
      "Black                  41\n",
      "Asian                  36\n",
      "Undisclosed            33\n",
      "Multiracial            21\n",
      "Hispanic or Latino      6\n",
      "American Indian         3\n",
      "Pacific Islander        3\n",
      "Name: race, dtype: int64\n",
      "~~~~~~~~~~~~~~~~~~~~~~~~~~~~~~~~~~~~~~~~~~~~~~~~~~~~~~~~~~~~~~~~~~~~~~~~~~~\n",
      "1 year           382\n",
      "3rd trimester     83\n",
      "2 years           66\n",
      "2nd trimester     62\n",
      "multi             44\n",
      "1st trimester     12\n",
      "caregiver          6\n",
      "Name: pregnancy_stage, dtype: int64\n",
      "~~~~~~~~~~~~~~~~~~~~~~~~~~~~~~~~~~~~~~~~~~~~~~~~~~~~~~~~~~~~~~~~~~~~~~~~~~~\n",
      "125,001 and over     238\n",
      "75,001 - 100,000     115\n",
      "100,001 - 125,000    105\n",
      "40,001 - 75,000      104\n",
      "40,000 and under      53\n",
      "$40,000 or under       1\n",
      "Name: income, dtype: int64\n",
      "~~~~~~~~~~~~~~~~~~~~~~~~~~~~~~~~~~~~~~~~~~~~~~~~~~~~~~~~~~~~~~~~~~~~~~~~~~~\n"
     ]
    }
   ],
   "source": [
    "df = pd.read_excel('survey_data.xlsx')\n",
    "\n",
    "for cat in cats:\n",
    "    \n",
    "    df = df.dropna(subset=['q03_pregnancy_open'])\n",
    "    \n",
    "    print(df[cat].value_counts())\n",
    "    print(\"~~~~~~~~~~~~~~~~~~~~~~~~~~~~~~~~~~~~~~~~~~~~~~~~~~~~~~~~~~~~~~~~~~~~~~~~~~~\")"
   ]
  },
  {
   "cell_type": "markdown",
   "id": "under-bridge",
   "metadata": {},
   "source": [
    "# value counts of 'q04_feeding_open' == Usefull"
   ]
  },
  {
   "cell_type": "code",
   "execution_count": 32,
   "id": "anonymous-venice",
   "metadata": {},
   "outputs": [
    {
     "name": "stdout",
     "output_type": "stream",
     "text": [
      "race              \n",
      "White                 496\n",
      "Black                  38\n",
      "Asian                  36\n",
      "Multiracial            18\n",
      "Undisclosed            17\n",
      "Hispanic or Latino      5\n",
      "American Indian         3\n",
      "Pacific Islander        3\n",
      "dtype: int64\n",
      "~~~~~~~~~~~~~~~~~~~~~~~~~~~~~~~~~~~~~~~~~~~~~~~~~~~~~~~~~~~~~~~~~~~~~~~~~~~\n",
      "pregnancy_stage\n",
      "1 year             363\n",
      "3rd trimester       77\n",
      "2nd trimester       59\n",
      "2 years             58\n",
      "multi               42\n",
      "1st trimester       11\n",
      "caregiver            6\n",
      "dtype: int64\n",
      "~~~~~~~~~~~~~~~~~~~~~~~~~~~~~~~~~~~~~~~~~~~~~~~~~~~~~~~~~~~~~~~~~~~~~~~~~~~\n",
      "income           \n",
      "125,001 and over     234\n",
      "75,001 - 100,000     113\n",
      "100,001 - 125,000     99\n",
      "40,001 - 75,000       99\n",
      "40,000 and under      47\n",
      "$40,000 or under       1\n",
      "dtype: int64\n",
      "~~~~~~~~~~~~~~~~~~~~~~~~~~~~~~~~~~~~~~~~~~~~~~~~~~~~~~~~~~~~~~~~~~~~~~~~~~~\n"
     ]
    }
   ],
   "source": [
    "df = pd.read_excel('survey_data.xlsx')\n",
    "\n",
    "for cat in cats:\n",
    "    \n",
    "    df = df.dropna(subset=['q04_feeding_open'])\n",
    "    \n",
    "    print(df[[cat]].value_counts())\n",
    "    print(\"~~~~~~~~~~~~~~~~~~~~~~~~~~~~~~~~~~~~~~~~~~~~~~~~~~~~~~~~~~~~~~~~~~~~~~~~~~~\")"
   ]
  },
  {
   "cell_type": "markdown",
   "id": "speaking-sending",
   "metadata": {},
   "source": [
    "# Value counts for 'q06_support_other'"
   ]
  },
  {
   "cell_type": "code",
   "execution_count": 33,
   "id": "unavailable-river",
   "metadata": {},
   "outputs": [
    {
     "name": "stdout",
     "output_type": "stream",
     "text": [
      "race       \n",
      "White          23\n",
      "Asian           2\n",
      "Multiracial     1\n",
      "dtype: int64\n",
      "~~~~~~~~~~~~~~~~~~~~~~~~~~~~~~~~~~~~~~~~~~~~~~~~~~~~~~~~~~~~~~~~~~~~~~~~~~~\n",
      "pregnancy_stage\n",
      "1 year             16\n",
      "2 years             5\n",
      "3rd trimester       3\n",
      "2nd trimester       2\n",
      "dtype: int64\n",
      "~~~~~~~~~~~~~~~~~~~~~~~~~~~~~~~~~~~~~~~~~~~~~~~~~~~~~~~~~~~~~~~~~~~~~~~~~~~\n",
      "income           \n",
      "125,001 and over     10\n",
      "100,001 - 125,000     7\n",
      "40,001 - 75,000       3\n",
      "40,000 and under      2\n",
      "75,001 - 100,000      2\n",
      "dtype: int64\n",
      "~~~~~~~~~~~~~~~~~~~~~~~~~~~~~~~~~~~~~~~~~~~~~~~~~~~~~~~~~~~~~~~~~~~~~~~~~~~\n"
     ]
    }
   ],
   "source": [
    "df = pd.read_excel('survey_data.xlsx')\n",
    "\n",
    "for cat in cats:\n",
    "    \n",
    "    df = df.dropna(subset=['q06_support_other'])\n",
    "    \n",
    "    print(df[[cat]].value_counts())\n",
    "    print(\"~~~~~~~~~~~~~~~~~~~~~~~~~~~~~~~~~~~~~~~~~~~~~~~~~~~~~~~~~~~~~~~~~~~~~~~~~~~\")"
   ]
  },
  {
   "cell_type": "markdown",
   "id": "nominated-beads",
   "metadata": {},
   "source": [
    "# value counts for 'q11_open' == Maybe Usefull"
   ]
  },
  {
   "cell_type": "code",
   "execution_count": 34,
   "id": "banned-knowing",
   "metadata": {},
   "outputs": [
    {
     "name": "stdout",
     "output_type": "stream",
     "text": [
      "race              \n",
      "White                 127\n",
      "Black                   8\n",
      "Asian                   6\n",
      "Multiracial             5\n",
      "Hispanic or Latino      2\n",
      "Pacific Islander        2\n",
      "Undisclosed             1\n",
      "dtype: int64\n",
      "~~~~~~~~~~~~~~~~~~~~~~~~~~~~~~~~~~~~~~~~~~~~~~~~~~~~~~~~~~~~~~~~~~~~~~~~~~~\n",
      "pregnancy_stage\n",
      "1 year             84\n",
      "3rd trimester      22\n",
      "multi              16\n",
      "2 years            15\n",
      "2nd trimester      12\n",
      "1st trimester       2\n",
      "dtype: int64\n",
      "~~~~~~~~~~~~~~~~~~~~~~~~~~~~~~~~~~~~~~~~~~~~~~~~~~~~~~~~~~~~~~~~~~~~~~~~~~~\n",
      "income           \n",
      "125,001 and over     49\n",
      "75,001 - 100,000     29\n",
      "100,001 - 125,000    25\n",
      "40,001 - 75,000      25\n",
      "40,000 and under     17\n",
      "$40,000 or under      1\n",
      "dtype: int64\n",
      "~~~~~~~~~~~~~~~~~~~~~~~~~~~~~~~~~~~~~~~~~~~~~~~~~~~~~~~~~~~~~~~~~~~~~~~~~~~\n"
     ]
    }
   ],
   "source": [
    "df = pd.read_excel('survey_data.xlsx')\n",
    "\n",
    "for cat in cats:\n",
    "    \n",
    "    df = df.dropna(subset=['q11_open'])\n",
    "    \n",
    "    print(df[[cat]].value_counts())\n",
    "    print(\"~~~~~~~~~~~~~~~~~~~~~~~~~~~~~~~~~~~~~~~~~~~~~~~~~~~~~~~~~~~~~~~~~~~~~~~~~~~\")"
   ]
  },
  {
   "cell_type": "markdown",
   "id": "weird-conference",
   "metadata": {},
   "source": [
    "# Pregnancy and Feeding are the only two qualitative features with large enough represintation to be useful in creating persona's. The open features has some borderline cases."
   ]
  },
  {
   "cell_type": "markdown",
   "id": "metallic-judge",
   "metadata": {},
   "source": [
    "## preparing qualitative data for analysis"
   ]
  },
  {
   "cell_type": "code",
   "execution_count": 35,
   "id": "overall-example",
   "metadata": {},
   "outputs": [],
   "source": [
    "# get fresh df\n",
    "df = pd.read_excel('survey_data.xlsx')\n",
    "\n",
    "# get preped data for each qualitative feature dropping all rows that are nan in that feature\n",
    "# dropping other qualitative features and persona non-relavent columns\n",
    "df_q1 = p.get_qual_preped(df,'q01_overall_open')\n",
    "df_q2 = p.get_qual_preped(df,'q02_financial_open')\n",
    "df_q3 = p.get_qual_preped(df,'q03_pregnancy_open')  # usefull\n",
    "df_q4 = p.get_qual_preped(df,'q04_feeding_open')    # usefull\n",
    "df_q6 = p.get_qual_preped(df,'q06_support_other')\n",
    "df_q11 = p.get_qual_preped(df,'q11_open')           # might be usefull"
   ]
  },
  {
   "cell_type": "code",
   "execution_count": 36,
   "id": "recovered-polyester",
   "metadata": {},
   "outputs": [
    {
     "data": {
      "text/plain": [
       "{'American Indian',\n",
       " 'Asian',\n",
       " 'Black',\n",
       " 'Hispanic or Latino',\n",
       " 'Multiracial',\n",
       " 'Pacific Islander',\n",
       " 'Undisclosed',\n",
       " 'White'}"
      ]
     },
     "execution_count": 36,
     "metadata": {},
     "output_type": "execute_result"
    }
   ],
   "source": [
    "df = pd.read_excel('survey_data.xlsx')\n",
    "race_set = set(df.race.to_list())\n",
    "race_set"
   ]
  },
  {
   "cell_type": "code",
   "execution_count": 37,
   "id": "veterinary-patrol",
   "metadata": {},
   "outputs": [
    {
     "data": {
      "text/html": [
       "<div>\n",
       "<style scoped>\n",
       "    .dataframe tbody tr th:only-of-type {\n",
       "        vertical-align: middle;\n",
       "    }\n",
       "\n",
       "    .dataframe tbody tr th {\n",
       "        vertical-align: top;\n",
       "    }\n",
       "\n",
       "    .dataframe thead th {\n",
       "        text-align: right;\n",
       "    }\n",
       "</style>\n",
       "<table border=\"1\" class=\"dataframe\">\n",
       "  <thead>\n",
       "    <tr style=\"text-align: right;\">\n",
       "      <th></th>\n",
       "      <th>q03_pregnancy_open</th>\n",
       "    </tr>\n",
       "  </thead>\n",
       "  <tbody>\n",
       "    <tr>\n",
       "      <th>0</th>\n",
       "      <td>understanding transmission covid safely intera...</td>\n",
       "    </tr>\n",
       "    <tr>\n",
       "      <th>2</th>\n",
       "      <td>get covid hospitalized</td>\n",
       "    </tr>\n",
       "    <tr>\n",
       "      <th>3</th>\n",
       "      <td>hate restriction quarantine week delivered wea...</td>\n",
       "    </tr>\n",
       "    <tr>\n",
       "      <th>4</th>\n",
       "      <td>becoming sick covid unable care baby</td>\n",
       "    </tr>\n",
       "    <tr>\n",
       "      <th>5</th>\n",
       "      <td>baby able socialize nearly anyone afraid lack ...</td>\n",
       "    </tr>\n",
       "    <tr>\n",
       "      <th>...</th>\n",
       "      <td>...</td>\n",
       "    </tr>\n",
       "    <tr>\n",
       "      <th>707</th>\n",
       "      <td>isolation</td>\n",
       "    </tr>\n",
       "    <tr>\n",
       "      <th>708</th>\n",
       "      <td>help ha placed everything afraid send oldest s...</td>\n",
       "    </tr>\n",
       "    <tr>\n",
       "      <th>709</th>\n",
       "      <td>avoiding getting covid family much unknown kno...</td>\n",
       "    </tr>\n",
       "    <tr>\n",
       "      <th>710</th>\n",
       "      <td>concerned potential risk baby</td>\n",
       "    </tr>\n",
       "    <tr>\n",
       "      <th>711</th>\n",
       "      <td>ability socialize son others age decreased fac...</td>\n",
       "    </tr>\n",
       "  </tbody>\n",
       "</table>\n",
       "<p>512 rows × 1 columns</p>\n",
       "</div>"
      ],
      "text/plain": [
       "                                    q03_pregnancy_open\n",
       "0    understanding transmission covid safely intera...\n",
       "2                               get covid hospitalized\n",
       "3    hate restriction quarantine week delivered wea...\n",
       "4                 becoming sick covid unable care baby\n",
       "5    baby able socialize nearly anyone afraid lack ...\n",
       "..                                                 ...\n",
       "707                                          isolation\n",
       "708  help ha placed everything afraid send oldest s...\n",
       "709  avoiding getting covid family much unknown kno...\n",
       "710                      concerned potential risk baby\n",
       "711  ability socialize son others age decreased fac...\n",
       "\n",
       "[512 rows x 1 columns]"
      ]
     },
     "execution_count": 37,
     "metadata": {},
     "output_type": "execute_result"
    }
   ],
   "source": [
    "df_q3[df_q3.race == 'White'][['q03_pregnancy_open']]"
   ]
  },
  {
   "cell_type": "code",
   "execution_count": 38,
   "id": "immediate-section",
   "metadata": {},
   "outputs": [
    {
     "name": "stdout",
     "output_type": "stream",
     "text": [
      "White               51\n",
      "Undisclosed          3\n",
      "Asian                2\n",
      "Multiracial          2\n",
      "Pacific Islander     1\n",
      "Name: race, dtype: int64\n",
      "~~~~~~~~~~~~~~~~~~~~~~~~~~~~~~~~~~~~~~~~~~~~~~~~~~~~~~~~~~~~~~~~~~~~~~~~~~~~~~\n",
      "White          43\n",
      "Undisclosed     3\n",
      "Asian           2\n",
      "Multiracial     1\n",
      "Name: race, dtype: int64\n",
      "~~~~~~~~~~~~~~~~~~~~~~~~~~~~~~~~~~~~~~~~~~~~~~~~~~~~~~~~~~~~~~~~~~~~~~~~~~~~~~\n",
      "White                 512\n",
      "Black                  41\n",
      "Asian                  36\n",
      "Undisclosed            33\n",
      "Multiracial            21\n",
      "Hispanic or Latino      6\n",
      "American Indian         3\n",
      "Pacific Islander        3\n",
      "Name: race, dtype: int64\n",
      "~~~~~~~~~~~~~~~~~~~~~~~~~~~~~~~~~~~~~~~~~~~~~~~~~~~~~~~~~~~~~~~~~~~~~~~~~~~~~~\n",
      "White                 496\n",
      "Black                  38\n",
      "Asian                  36\n",
      "Multiracial            18\n",
      "Undisclosed            17\n",
      "Hispanic or Latino      5\n",
      "American Indian         3\n",
      "Pacific Islander        3\n",
      "Name: race, dtype: int64\n",
      "~~~~~~~~~~~~~~~~~~~~~~~~~~~~~~~~~~~~~~~~~~~~~~~~~~~~~~~~~~~~~~~~~~~~~~~~~~~~~~\n",
      "White          23\n",
      "Asian           2\n",
      "Multiracial     1\n",
      "Name: race, dtype: int64\n",
      "~~~~~~~~~~~~~~~~~~~~~~~~~~~~~~~~~~~~~~~~~~~~~~~~~~~~~~~~~~~~~~~~~~~~~~~~~~~~~~\n",
      "White                 127\n",
      "Black                   8\n",
      "Asian                   6\n",
      "Multiracial             5\n",
      "Hispanic or Latino      2\n",
      "Pacific Islander        2\n",
      "Undisclosed             1\n",
      "Name: race, dtype: int64\n",
      "~~~~~~~~~~~~~~~~~~~~~~~~~~~~~~~~~~~~~~~~~~~~~~~~~~~~~~~~~~~~~~~~~~~~~~~~~~~~~~\n"
     ]
    }
   ],
   "source": [
    "df_list = [df_q1, df_q2, df_q3, df_q4, df_q6, df_q11]\n",
    "\n",
    "for df in df_list:\n",
    "    \n",
    "    print(df.race.value_counts())\n",
    "    print(\"~~~~~~~~~~~~~~~~~~~~~~~~~~~~~~~~~~~~~~~~~~~~~~~~~~~~~~~~~~~~~~~~~~~~~~~~~~~~~~\")"
   ]
  },
  {
   "cell_type": "code",
   "execution_count": 42,
   "id": "circular-industry",
   "metadata": {},
   "outputs": [
    {
     "data": {
      "image/png": "[encoded data removed]",
      "text/plain": [
       "<Figure size 504x504 with 1 Axes>"
      ]
     },
     "metadata": {
      "needs_background": "light"
     },
     "output_type": "display_data"
    }
   ],
   "source": [
    "q3_bigrams = e.get_ngram_value_counts(df_q3,'q03_pregnancy_open',2)"
   ]
  },
  {
   "cell_type": "code",
   "execution_count": 39,
   "id": "occupied-fleece",
   "metadata": {
    "scrolled": true
   },
   "outputs": [
    {
     "data": {
      "image/png": "[encoded data removed]",
      "text/plain": [
       "<Figure size 504x504 with 1 Axes>"
      ]
     },
     "metadata": {
      "needs_background": "light"
     },
     "output_type": "display_data"
    }
   ],
   "source": [
    "q3_bigrams = e.get_ngram_value_counts(df_q3,'q03_pregnancy_open',3)"
   ]
  },
  {
   "cell_type": "code",
   "execution_count": 40,
   "id": "common-performance",
   "metadata": {},
   "outputs": [],
   "source": [
    "def  get_master_list(ngram_lists):\n",
    "    \n",
    "    master_ngram_list = []\n",
    "\n",
    "    for lst in ngram_lists:\n",
    "        for item in lst:\n",
    "            master_ngram_list.append(item)\n",
    "            \n",
    "    return master_ngram_list\n",
    "\n",
    "\n",
    "def ngrams_race(df,col,n,sort_by=\"All\"):\n",
    "    '''\n",
    "    '''\n",
    "\n",
    "    # convert text in text column values to a list of bigrams for the full text column and for values representing each color\n",
    "    ngram_all = df[col].apply(lambda text: list(nltk.ngrams(text.split(),n)))\n",
    "    ngram_white = df[df.race == 'White'][col].apply(lambda text: list(nltk.ngrams(text.split(),n)))\n",
    "    ngram_american_indian = df[df.race == 'American Indian'][col].apply(lambda text: list(nltk.ngrams(text.split(),n)))\n",
    "    ngram_asian = df[df.race == 'Asian'][col].apply(lambda text: list(nltk.ngrams(text.split(),n)))\n",
    "    ngram_black = df[df.race == 'Black'][col].apply(lambda text: list(nltk.ngrams(text.split(),n)))\n",
    "    ngram_hispanic_latino = df[df.race == 'Hispanic or Latino'][col].apply(lambda text: list(nltk.ngrams(text.split(),n)))\n",
    "    ngram_multiracial = df[df.race == 'Multiracial'][col].apply(lambda text: list(nltk.ngrams(text.split(),n)))\n",
    "    ngram_pacific_islander = df[df.race == 'Pacific Islander'][col].apply(lambda text: list(nltk.ngrams(text.split(),n)))\n",
    "    ngram_undisclosed = df[df.race == 'Undisclosed'][col].apply(lambda text: list(nltk.ngrams(text.split(),n)))\n",
    "    \n",
    "    # combine lists in series into one master list\n",
    "    ngram_all_master_list = get_master_list(ngram_all)\n",
    "    ngram_white_master_list = get_master_list(ngram_white)\n",
    "    ngram_american_indian_master_list = get_master_list(ngram_american_indian)\n",
    "    ngram_asian_master_list = get_master_list(ngram_asian)\n",
    "    ngram_black_master_list = get_master_list(ngram_black)\n",
    "    ngram_hispanic_latino_master_list = get_master_list(ngram_hispanic_latino)\n",
    "    ngram_multiracial_master_list = get_master_list(ngram_multiracial)\n",
    "    ngram_pacific_islander_master_list = get_master_list(ngram_pacific_islander)\n",
    "    ngram_undisclosed_master_list = get_master_list(ngram_undisclosed)\n",
    "\n",
    "    # convert each master list to a series then convert each of those tuples into strings\n",
    "    ngram_all_series = pd.Series(ngram_all_master_list).apply(lambda tup: str(tup))\n",
    "    ngram_white_series = pd.Series(ngram_white_master_list).apply(lambda tup: str(tup))\n",
    "    ngram_american_indian_series = pd.Series(ngram_american_indian_master_list).apply(lambda tup: str(tup))\n",
    "    ngram_asian_series = pd.Series(ngram_asian_master_list).apply(lambda tup: str(tup))\n",
    "    ngram_black_series = pd.Series(ngram_black_master_list).apply(lambda tup: str(tup))\n",
    "    ngram_hispanic_latino_series = pd.Series(ngram_hispanic_latino_master_list).apply(lambda tup: str(tup))\n",
    "    ngram_multiracial_series = pd.Series(ngram_multiracial_master_list).apply(lambda tup: str(tup))\n",
    "    ngram_pacific_islander_series = pd.Series(ngram_pacific_islander_master_list).apply(lambda tup: str(tup))\n",
    "    ngram_undisclosed_series = pd.Series(ngram_undisclosed_master_list).apply(lambda tup: str(tup))\n",
    "\n",
    "    # get value count for each string tuple in the series\n",
    "    ngram_all_freq = ngram_all_series.value_counts()\n",
    "    ngram_white_freq = ngram_white_series.value_counts()\n",
    "    ngram_american_indian_freq = ngram_american_indian_series.value_counts()\n",
    "    ngram_asian_freq = ngram_asian_series.value_counts()\n",
    "    ngram_black_freq = ngram_black_series.value_counts()\n",
    "    ngram_hispanic_latino_freq = ngram_hispanic_latino_series.value_counts()\n",
    "    ngram_multiracial_freq = ngram_multiracial_series.value_counts()\n",
    "    ngram_pacific_islander_freq = ngram_pacific_islander_series.value_counts()\n",
    "    ngram_undisclosed_freq = ngram_undisclosed_series.value_counts()\n",
    "    \n",
    "    # combine value counts into one pandas data frame                                        \n",
    "    ngram_counts = (pd.concat([ngram_all_freq,ngram_white_freq,ngram_american_indian_freq,ngram_asian_freq,ngram_black_freq,\n",
    "                               ngram_hispanic_latino_freq,ngram_multiracial_freq,ngram_pacific_islander_freq,\n",
    "                               ngram_undisclosed_freq], axis=1, sort=True)\n",
    "                      .set_axis([\"All\",\"White\",\"American Indian\",\"Asian\",\"Black\",\"Hispanic or Latino\",\"Multiracial\",\n",
    "                           \"Pacific Islander\",\"Undisclosed\"], axis=1, inplace=False)\n",
    "                      .fillna(0)\n",
    "                      .apply(lambda s: s.astype(int))\n",
    "                      .sort_values(by=sort_by,ascending=False)\n",
    "                      .head(20))\n",
    "                \n",
    "    return ngram_counts\n",
    "    \n",
    "    #     # convert to dataframe\n",
    "    #     ngram_white_frame = ngram_white_freq.to_frame(name=\"White\")\n",
    "    #     ngram_american_indian_frame = ngram_american_indian_freq.to_frame(name=\"American Indian\")\n",
    "    #     ngram_asian_frame = ngram_asian_freq.to_frame(name=\"Asian\")\n",
    "    #     ngram_black_frame = ngram_black_freq.to_frame(name=\"Black\")\n",
    "    #     ngram_hispanic_latino_frame = ngram_hispanic_latino_freq.to_frame(name=\"Hispanic or Latino\")\n",
    "    #     ngram_multiracial_frame = ngram_multiracial_freq.to_frame(name=\"Multiracial\")\n",
    "    #     ngram_pacific_islander_frame = ngram_pacific_islander_freq.to_frame(name=\"Pacific Islander\")\n",
    "    #     ngram_undisclosed_frame = ngram_white_freq.to_frame(name=\"Undisclosed\")\n",
    "\n",
    "    #     # make a bar chart if chart equals True\n",
    "    #     if chart == True:\n",
    "\n",
    "    #         ngram_frame.sort_values(by=col).tail(20).plot.barh(figsize=(7,7))\n",
    "    #         plt.title(f\"Most frequent {n}grams in {col}\")\n",
    "\n",
    "    #     # return dataframe if return_df equals True\n",
    "    #     if return_df == True:\n",
    "\n",
    "    "
   ]
  },
  {
   "cell_type": "code",
   "execution_count": 41,
   "id": "aging-daisy",
   "metadata": {},
   "outputs": [
    {
     "data": {
      "text/html": [
       "<div>\n",
       "<style scoped>\n",
       "    .dataframe tbody tr th:only-of-type {\n",
       "        vertical-align: middle;\n",
       "    }\n",
       "\n",
       "    .dataframe tbody tr th {\n",
       "        vertical-align: top;\n",
       "    }\n",
       "\n",
       "    .dataframe thead th {\n",
       "        text-align: right;\n",
       "    }\n",
       "</style>\n",
       "<table border=\"1\" class=\"dataframe\">\n",
       "  <thead>\n",
       "    <tr style=\"text-align: right;\">\n",
       "      <th></th>\n",
       "      <th>All</th>\n",
       "      <th>White</th>\n",
       "      <th>American Indian</th>\n",
       "      <th>Asian</th>\n",
       "      <th>Black</th>\n",
       "      <th>Hispanic or Latino</th>\n",
       "      <th>Multiracial</th>\n",
       "      <th>Pacific Islander</th>\n",
       "      <th>Undisclosed</th>\n",
       "    </tr>\n",
       "  </thead>\n",
       "  <tbody>\n",
       "    <tr>\n",
       "      <th>('family', 'friend')</th>\n",
       "      <td>35</td>\n",
       "      <td>29</td>\n",
       "      <td>0</td>\n",
       "      <td>2</td>\n",
       "      <td>4</td>\n",
       "      <td>0</td>\n",
       "      <td>0</td>\n",
       "      <td>0</td>\n",
       "      <td>0</td>\n",
       "    </tr>\n",
       "    <tr>\n",
       "      <th>('getting', 'covid')</th>\n",
       "      <td>24</td>\n",
       "      <td>20</td>\n",
       "      <td>0</td>\n",
       "      <td>1</td>\n",
       "      <td>0</td>\n",
       "      <td>0</td>\n",
       "      <td>2</td>\n",
       "      <td>0</td>\n",
       "      <td>1</td>\n",
       "    </tr>\n",
       "    <tr>\n",
       "      <th>('friend', 'family')</th>\n",
       "      <td>19</td>\n",
       "      <td>18</td>\n",
       "      <td>0</td>\n",
       "      <td>0</td>\n",
       "      <td>0</td>\n",
       "      <td>0</td>\n",
       "      <td>0</td>\n",
       "      <td>0</td>\n",
       "      <td>1</td>\n",
       "    </tr>\n",
       "    <tr>\n",
       "      <th>('mental', 'health')</th>\n",
       "      <td>19</td>\n",
       "      <td>15</td>\n",
       "      <td>0</td>\n",
       "      <td>2</td>\n",
       "      <td>1</td>\n",
       "      <td>0</td>\n",
       "      <td>0</td>\n",
       "      <td>0</td>\n",
       "      <td>1</td>\n",
       "    </tr>\n",
       "    <tr>\n",
       "      <th>('getting', 'sick')</th>\n",
       "      <td>19</td>\n",
       "      <td>15</td>\n",
       "      <td>0</td>\n",
       "      <td>0</td>\n",
       "      <td>0</td>\n",
       "      <td>0</td>\n",
       "      <td>2</td>\n",
       "      <td>0</td>\n",
       "      <td>2</td>\n",
       "    </tr>\n",
       "    <tr>\n",
       "      <th>('family', 'member')</th>\n",
       "      <td>16</td>\n",
       "      <td>11</td>\n",
       "      <td>1</td>\n",
       "      <td>1</td>\n",
       "      <td>1</td>\n",
       "      <td>1</td>\n",
       "      <td>1</td>\n",
       "      <td>0</td>\n",
       "      <td>0</td>\n",
       "    </tr>\n",
       "    <tr>\n",
       "      <th>('biggest', 'concern')</th>\n",
       "      <td>15</td>\n",
       "      <td>11</td>\n",
       "      <td>0</td>\n",
       "      <td>0</td>\n",
       "      <td>0</td>\n",
       "      <td>1</td>\n",
       "      <td>3</td>\n",
       "      <td>0</td>\n",
       "      <td>0</td>\n",
       "    </tr>\n",
       "    <tr>\n",
       "      <th>('lack', 'support')</th>\n",
       "      <td>15</td>\n",
       "      <td>13</td>\n",
       "      <td>0</td>\n",
       "      <td>1</td>\n",
       "      <td>0</td>\n",
       "      <td>0</td>\n",
       "      <td>0</td>\n",
       "      <td>0</td>\n",
       "      <td>1</td>\n",
       "    </tr>\n",
       "    <tr>\n",
       "      <th>('social', 'interaction')</th>\n",
       "      <td>13</td>\n",
       "      <td>12</td>\n",
       "      <td>0</td>\n",
       "      <td>0</td>\n",
       "      <td>1</td>\n",
       "      <td>0</td>\n",
       "      <td>0</td>\n",
       "      <td>0</td>\n",
       "      <td>0</td>\n",
       "    </tr>\n",
       "    <tr>\n",
       "      <th>('person', 'support')</th>\n",
       "      <td>13</td>\n",
       "      <td>11</td>\n",
       "      <td>0</td>\n",
       "      <td>0</td>\n",
       "      <td>2</td>\n",
       "      <td>0</td>\n",
       "      <td>0</td>\n",
       "      <td>0</td>\n",
       "      <td>0</td>\n",
       "    </tr>\n",
       "    <tr>\n",
       "      <th>('able', 'see')</th>\n",
       "      <td>11</td>\n",
       "      <td>10</td>\n",
       "      <td>0</td>\n",
       "      <td>1</td>\n",
       "      <td>0</td>\n",
       "      <td>0</td>\n",
       "      <td>0</td>\n",
       "      <td>0</td>\n",
       "      <td>0</td>\n",
       "    </tr>\n",
       "    <tr>\n",
       "      <th>('get', 'covid')</th>\n",
       "      <td>11</td>\n",
       "      <td>11</td>\n",
       "      <td>0</td>\n",
       "      <td>0</td>\n",
       "      <td>0</td>\n",
       "      <td>0</td>\n",
       "      <td>0</td>\n",
       "      <td>0</td>\n",
       "      <td>0</td>\n",
       "    </tr>\n",
       "    <tr>\n",
       "      <th>('keeping', 'baby')</th>\n",
       "      <td>11</td>\n",
       "      <td>10</td>\n",
       "      <td>0</td>\n",
       "      <td>0</td>\n",
       "      <td>0</td>\n",
       "      <td>0</td>\n",
       "      <td>0</td>\n",
       "      <td>0</td>\n",
       "      <td>1</td>\n",
       "    </tr>\n",
       "    <tr>\n",
       "      <th>('pregnant', 'woman')</th>\n",
       "      <td>11</td>\n",
       "      <td>9</td>\n",
       "      <td>0</td>\n",
       "      <td>1</td>\n",
       "      <td>0</td>\n",
       "      <td>1</td>\n",
       "      <td>0</td>\n",
       "      <td>0</td>\n",
       "      <td>0</td>\n",
       "    </tr>\n",
       "    <tr>\n",
       "      <th>('greatest', 'concern')</th>\n",
       "      <td>11</td>\n",
       "      <td>10</td>\n",
       "      <td>0</td>\n",
       "      <td>0</td>\n",
       "      <td>0</td>\n",
       "      <td>1</td>\n",
       "      <td>0</td>\n",
       "      <td>0</td>\n",
       "      <td>0</td>\n",
       "    </tr>\n",
       "    <tr>\n",
       "      <th>('month', 'old')</th>\n",
       "      <td>10</td>\n",
       "      <td>8</td>\n",
       "      <td>0</td>\n",
       "      <td>1</td>\n",
       "      <td>0</td>\n",
       "      <td>0</td>\n",
       "      <td>0</td>\n",
       "      <td>0</td>\n",
       "      <td>1</td>\n",
       "    </tr>\n",
       "    <tr>\n",
       "      <th>('baby', 'wa')</th>\n",
       "      <td>10</td>\n",
       "      <td>8</td>\n",
       "      <td>0</td>\n",
       "      <td>0</td>\n",
       "      <td>0</td>\n",
       "      <td>0</td>\n",
       "      <td>1</td>\n",
       "      <td>0</td>\n",
       "      <td>1</td>\n",
       "    </tr>\n",
       "    <tr>\n",
       "      <th>('making', 'sure')</th>\n",
       "      <td>10</td>\n",
       "      <td>7</td>\n",
       "      <td>0</td>\n",
       "      <td>1</td>\n",
       "      <td>1</td>\n",
       "      <td>1</td>\n",
       "      <td>0</td>\n",
       "      <td>0</td>\n",
       "      <td>0</td>\n",
       "    </tr>\n",
       "    <tr>\n",
       "      <th>('baby', 'health')</th>\n",
       "      <td>10</td>\n",
       "      <td>9</td>\n",
       "      <td>0</td>\n",
       "      <td>0</td>\n",
       "      <td>0</td>\n",
       "      <td>0</td>\n",
       "      <td>0</td>\n",
       "      <td>0</td>\n",
       "      <td>1</td>\n",
       "    </tr>\n",
       "    <tr>\n",
       "      <th>('catching', 'covid')</th>\n",
       "      <td>10</td>\n",
       "      <td>7</td>\n",
       "      <td>0</td>\n",
       "      <td>0</td>\n",
       "      <td>2</td>\n",
       "      <td>0</td>\n",
       "      <td>0</td>\n",
       "      <td>0</td>\n",
       "      <td>1</td>\n",
       "    </tr>\n",
       "  </tbody>\n",
       "</table>\n",
       "</div>"
      ],
      "text/plain": [
       "                           All  White  American Indian  Asian  Black  \\\n",
       "('family', 'friend')        35     29                0      2      4   \n",
       "('getting', 'covid')        24     20                0      1      0   \n",
       "('friend', 'family')        19     18                0      0      0   \n",
       "('mental', 'health')        19     15                0      2      1   \n",
       "('getting', 'sick')         19     15                0      0      0   \n",
       "('family', 'member')        16     11                1      1      1   \n",
       "('biggest', 'concern')      15     11                0      0      0   \n",
       "('lack', 'support')         15     13                0      1      0   \n",
       "('social', 'interaction')   13     12                0      0      1   \n",
       "('person', 'support')       13     11                0      0      2   \n",
       "('able', 'see')             11     10                0      1      0   \n",
       "('get', 'covid')            11     11                0      0      0   \n",
       "('keeping', 'baby')         11     10                0      0      0   \n",
       "('pregnant', 'woman')       11      9                0      1      0   \n",
       "('greatest', 'concern')     11     10                0      0      0   \n",
       "('month', 'old')            10      8                0      1      0   \n",
       "('baby', 'wa')              10      8                0      0      0   \n",
       "('making', 'sure')          10      7                0      1      1   \n",
       "('baby', 'health')          10      9                0      0      0   \n",
       "('catching', 'covid')       10      7                0      0      2   \n",
       "\n",
       "                           Hispanic or Latino  Multiracial  Pacific Islander  \\\n",
       "('family', 'friend')                        0            0                 0   \n",
       "('getting', 'covid')                        0            2                 0   \n",
       "('friend', 'family')                        0            0                 0   \n",
       "('mental', 'health')                        0            0                 0   \n",
       "('getting', 'sick')                         0            2                 0   \n",
       "('family', 'member')                        1            1                 0   \n",
       "('biggest', 'concern')                      1            3                 0   \n",
       "('lack', 'support')                         0            0                 0   \n",
       "('social', 'interaction')                   0            0                 0   \n",
       "('person', 'support')                       0            0                 0   \n",
       "('able', 'see')                             0            0                 0   \n",
       "('get', 'covid')                            0            0                 0   \n",
       "('keeping', 'baby')                         0            0                 0   \n",
       "('pregnant', 'woman')                       1            0                 0   \n",
       "('greatest', 'concern')                     1            0                 0   \n",
       "('month', 'old')                            0            0                 0   \n",
       "('baby', 'wa')                              0            1                 0   \n",
       "('making', 'sure')                          1            0                 0   \n",
       "('baby', 'health')                          0            0                 0   \n",
       "('catching', 'covid')                       0            0                 0   \n",
       "\n",
       "                           Undisclosed  \n",
       "('family', 'friend')                 0  \n",
       "('getting', 'covid')                 1  \n",
       "('friend', 'family')                 1  \n",
       "('mental', 'health')                 1  \n",
       "('getting', 'sick')                  2  \n",
       "('family', 'member')                 0  \n",
       "('biggest', 'concern')               0  \n",
       "('lack', 'support')                  1  \n",
       "('social', 'interaction')            0  \n",
       "('person', 'support')                0  \n",
       "('able', 'see')                      0  \n",
       "('get', 'covid')                     0  \n",
       "('keeping', 'baby')                  1  \n",
       "('pregnant', 'woman')                0  \n",
       "('greatest', 'concern')              0  \n",
       "('month', 'old')                     1  \n",
       "('baby', 'wa')                       1  \n",
       "('making', 'sure')                   0  \n",
       "('baby', 'health')                   1  \n",
       "('catching', 'covid')                1  "
      ]
     },
     "execution_count": 41,
     "metadata": {},
     "output_type": "execute_result"
    }
   ],
   "source": [
    "ngrams_race(df_q3,'q03_pregnancy_open',2)"
   ]
  },
  {
   "cell_type": "code",
   "execution_count": null,
   "id": "seeing-theory",
   "metadata": {},
   "outputs": [],
   "source": []
  },
  {
   "cell_type": "code",
   "execution_count": null,
   "id": "persistent-latino",
   "metadata": {},
   "outputs": [],
   "source": []
  }
 ],
 "metadata": {
  "kernelspec": {
   "display_name": "Python 3",
   "language": "python",
   "name": "python3"
  },
  "language_info": {
   "codemirror_mode": {
    "name": "ipython",
    "version": 3
   },
   "file_extension": ".py",
   "mimetype": "text/x-python",
   "name": "python",
   "nbconvert_exporter": "python",
   "pygments_lexer": "ipython3",
   "version": "3.7.4"
  }
 },
 "nbformat": 4,
 "nbformat_minor": 5
}
